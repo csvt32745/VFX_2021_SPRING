{
 "metadata": {
  "language_info": {
   "codemirror_mode": {
    "name": "ipython",
    "version": 3
   },
   "file_extension": ".py",
   "mimetype": "text/x-python",
   "name": "python",
   "nbconvert_exporter": "python",
   "pygments_lexer": "ipython3",
   "version": "3.8.5-final"
  },
  "orig_nbformat": 2,
  "kernelspec": {
   "name": "python3",
   "display_name": "Python 3",
   "language": "python"
  }
 },
 "nbformat": 4,
 "nbformat_minor": 2,
 "cells": [
  {
   "cell_type": "code",
   "execution_count": 18,
   "metadata": {},
   "outputs": [],
   "source": [
    "import os\n",
    "import numpy as np\n",
    "import matplotlib.pyplot as plt\n",
    "import cv2\n",
    "import itertools\n",
    "from tqdm import tqdm\n",
    "import tqdm.contrib.itertools as tqdm_it\n",
    "\n",
    "# image sources: https://www.easyhdr.com/examples/"
   ]
  },
  {
   "cell_type": "code",
   "execution_count": 19,
   "metadata": {},
   "outputs": [],
   "source": [
    "def show(img):\n",
    "    i = img.astype('uint8')*255 if img.dtype == 'bool' else img\n",
    "    # print(i.dtype, i.ndim)\n",
    "    plt.figure(figsize=(10, 10))\n",
    "    if img.ndim == 3:\n",
    "        # color\n",
    "        plt.imshow(img[..., ::-1], interpolation='none')\n",
    "    else:\n",
    "        plt.imshow(img, cmap='gray', interpolation='none')\n",
    "        # plt.imshow(img, cmap='gray', vmin=0, vmax=255, interpolation='none')\n",
    "    plt.show()"
   ]
  },
  {
   "source": [
    "## Read Image"
   ],
   "cell_type": "markdown",
   "metadata": {}
  },
  {
   "cell_type": "code",
   "execution_count": 20,
   "metadata": {},
   "outputs": [],
   "source": [
    "# folder = 'cannon'\n",
    "# folder = 'castle'\n",
    "folder = 'cs_1'\n",
    "type = \"TIME\"\n",
    "# type = \"EV\"\n",
    "\n",
    "folder = \"data/\"+folder"
   ]
  },
  {
   "cell_type": "code",
   "execution_count": 21,
   "metadata": {},
   "outputs": [
    {
     "output_type": "stream",
     "name": "stdout",
     "text": [
      "Loading 7 images from folder \"data/cs_1\", dt:\n(0.25, 0.5, 1.0, 15.0, 2.0, 4.0, 8.0)\nev: (0.25, 0.5, 1.0, 15.0, 2.0, 4.0, 8.0)\n"
     ]
    }
   ],
   "source": [
    "file_names = os.listdir(folder)\n",
    "imgs = [(cv2.imread(folder + \"/\" + f), np.float32(f.rsplit(\".\", 1)[0])) for f in file_names]\n",
    "imgs, evs = zip(*imgs)\n",
    "\n",
    "shape = np.array(imgs[0].shape)[:2][::-1]//4\n",
    "imgs = [cv2.resize(i, tuple(shape)) for i in imgs]\n",
    "\n",
    "imgs = np.array(imgs)\n",
    "# ev = 0 for 1 sec\n",
    "if type == \"TIME\":\n",
    "    dt = evs\n",
    "else:\n",
    "    dt = 2**(-np.array(evs))\n",
    "lndt = np.log(dt)\n",
    "gimgs = [cv2.cvtColor(i, cv2.COLOR_RGB2GRAY) for i in imgs]\n",
    "print(f\"Loading {len(imgs)} images from folder \\\"{folder}\\\", dt:\")\n",
    "print(dt)\n",
    "print(\"ev:\", evs)"
   ]
  },
  {
   "source": [
    "# Alignment"
   ],
   "cell_type": "markdown",
   "metadata": {}
  },
  {
   "source": [
    "## MTB (TODO)"
   ],
   "cell_type": "markdown",
   "metadata": {}
  },
  {
   "cell_type": "code",
   "execution_count": 22,
   "metadata": {},
   "outputs": [],
   "source": [
    "def mtb(img, threshold = 20):\n",
    "    med = np.median(img)\n",
    "    # bimg = np.zeros_like(img, dtype=bool)\n",
    "    bimg = img >= (med)\n",
    "    eximg = np.abs(img.astype(int)-med) < threshold\n",
    "    # low   | low_thre  | high_thre | high\n",
    "    # F     | F         | T         | T\n",
    "    # F     | T         | T         | F\n",
    "    return bimg, eximg"
   ]
  },
  {
   "cell_type": "code",
   "execution_count": 23,
   "metadata": {},
   "outputs": [],
   "source": [
    "threshold = 20\n",
    "bimgs, eximgs = zip(*[mtb(i, threshold) for i in gimgs])"
   ]
  },
  {
   "source": [
    "# Recovering Response Curve"
   ],
   "cell_type": "markdown",
   "metadata": {}
  },
  {
   "cell_type": "code",
   "execution_count": 24,
   "metadata": {},
   "outputs": [],
   "source": [
    "def SolveResponseCurve(imgs, P, N, z_mid):\n",
    "    print(f\"Z_mid = {z_mid}, P = {P}, N = {N}\")\n",
    "\n",
    "    # pixs[P][N]\n",
    "    fimgs = [f.flatten() for f in imgs]\n",
    "    idx = np.random.choice(fimgs[0].shape[0], N, replace=False)\n",
    "    pixs = np.array([f[idx] for f in fimgs])\n",
    "    shape = (N*P+255, 256+N)\n",
    "\n",
    "    # =====================================\n",
    "    # Ax = b\n",
    "    # mat A\n",
    "    A = np.zeros(shape, dtype=float)\n",
    "    for i in range(0, N):\n",
    "        # left_up block\n",
    "        i0 = i*P\n",
    "        for p in range(P):\n",
    "            A[i0+p, pixs[p, i]] = 1\n",
    "        # right_up block\n",
    "        A[i0:i0+P, 256+i] = -1\n",
    "    # Z_mid constraint\n",
    "    A[N*P, z_mid] = 1\n",
    "    # left_bot block\n",
    "    i0 = N*P+1-1\n",
    "    A[i0:i0+254, :254] += np.eye(254)\n",
    "    A[i0:i0+254, :255] += np.eye(255, k=1)[:254]*(-2)\n",
    "    A[i0:i0+254, :256] += np.eye(256, k=2)[:254]\n",
    "    # print(A[i0:i0+254, :256].shape)\n",
    "\n",
    "    # vec b\n",
    "    b = np.zeros(shape[0], dtype=float)\n",
    "   \n",
    "    b[:N*P] = np.tile(lndt, N)\n",
    "\n",
    "    # Solve lsq\n",
    "    x = np.array(np.linalg.lstsq(A, b, rcond=0.001)[0])\n",
    "    # =====================================\n",
    "    g = x[:256]\n",
    "    e = np.exp(x[256:])\n",
    "    return g, e\n"
   ]
  },
  {
   "cell_type": "code",
   "execution_count": 25,
   "metadata": {},
   "outputs": [
    {
     "output_type": "stream",
     "name": "stdout",
     "text": [
      "Z_mid = 127, P = 7, N = 2125\n"
     ]
    }
   ],
   "source": [
    "z_mid = (0+255)//2\n",
    "# N(P-1) > 255\n",
    "# takes 2x\n",
    "P = len(bimgs)\n",
    "n = 50 # sample number multiplier\n",
    "N = int((255 / (P-1)) * n)\n",
    "print(f\"Z_mid = {z_mid}, P = {P}, N = {N}\")\n",
    "shape = (N*P+255, 256+N)"
   ]
  },
  {
   "cell_type": "code",
   "execution_count": 26,
   "metadata": {},
   "outputs": [
    {
     "output_type": "stream",
     "name": "stdout",
     "text": [
      "Z_mid = 127, P = 7, N = 2125\n",
      "Z_mid = 127, P = 7, N = 2125\n",
      "Z_mid = 127, P = 7, N = 2125\n"
     ]
    }
   ],
   "source": [
    "# [ch, P, h, w]\n",
    "rgb_imgs = imgs.transpose([3, 0, 1, 2])\n",
    "rgb_g = [SolveResponseCurve(img, P, N, z_mid)[0] for img in rgb_imgs]"
   ]
  },
  {
   "cell_type": "code",
   "execution_count": 27,
   "metadata": {},
   "outputs": [],
   "source": [
    "w = lambda z: z-0+1 if z <= z_mid else 255-z+1 # add a positive value to prevent from divided-by-zero\n",
    "w = np.vectorize(w)(np.arange(256))\n",
    "# reverse energy function\n",
    "# inv_f = lambda g, imgs: np.exp(np.sum([w[imgs[p]]*(g[imgs[p]]-lndt[p]) for p in range(P)], axis=0) / np.sum([w[imgs[p]] for p in range(P)], axis=0))\n",
    "def inv_f(g, imgs):\n",
    "    print(\"=====================\")\n",
    "    print(g.shape, g.min(), g.max())\n",
    "    a = np.sum([w[imgs[p]]*(g[imgs[p]]-lndt[p]) for p in range(P)], axis=0)\n",
    "    print(a.shape, a.min(), a.max())\n",
    "    b = np.sum([w[imgs[p]] for p in range(P)], axis=0)\n",
    "    print(b.shape, b.min(), b.max())\n",
    "    res = np.exp(a/b)\n",
    "    print(res.min(), res.max())\n",
    "    return res\n",
    "\n"
   ]
  },
  {
   "cell_type": "code",
   "execution_count": 28,
   "metadata": {},
   "outputs": [
    {
     "output_type": "stream",
     "name": "stdout",
     "text": [
      "=====================\n",
      "(256,) -1.22527254211553 6.43238256210402\n",
      "(648, 972) -26.62660467865786 1721.7005118278219\n",
      "(648, 972) 7 494\n",
      "0.14551299183932714 752.63226494959\n",
      "=====================\n",
      "(256,) -1.5043692485938644 6.182108549708097\n",
      "(648, 972) -32.66182564694557 1742.7414155183164\n",
      "(648, 972) 7 504\n",
      "0.11004790110594276 743.4229153128817\n",
      "=====================\n",
      "(256,) -1.3638758363946253 5.777900205843198\n",
      "(648, 972) -32.72845648928875 1637.9013984591686\n",
      "(648, 972) 7 501\n",
      "0.12901801461834034 579.7112073643204\n"
     ]
    }
   ],
   "source": [
    "# [ch, p, w, h]\n",
    "def normalize(img):\n",
    "    _min = img.min()\n",
    "    _max = img.max()\n",
    "    return (img-_min)/(_max-_min)\n",
    "# normalize = lambda i: (i-np.min(i))/(np.max(i)-np.min(i))\n",
    "after = np.array([inv_f(g, imgs) for g, imgs in zip(rgb_g, rgb_imgs)])\n",
    "after_norm = np.array([normalize(img)*255 for img in after]).astype('uint8')\n",
    "after_norm = after_norm.transpose([1, 2, 0])"
   ]
  },
  {
   "cell_type": "code",
   "execution_count": 29,
   "metadata": {},
   "outputs": [],
   "source": [
    "# show(np.concatenate([imgs[1], after_norm], axis=1))"
   ]
  },
  {
   "source": [
    "# Save as EXR file"
   ],
   "cell_type": "markdown",
   "metadata": {}
  },
  {
   "cell_type": "code",
   "execution_count": 30,
   "metadata": {},
   "outputs": [],
   "source": [
    "import OpenEXR as exr\n",
    "import array"
   ]
  },
  {
   "cell_type": "code",
   "execution_count": 31,
   "metadata": {},
   "outputs": [
    {
     "output_type": "stream",
     "name": "stdout",
     "text": [
      "972 648\n",
      "<ipython-input-31-4af13dc24cc0>:3: DeprecationWarning: tostring() is deprecated. Use tobytes() instead.\n",
      "  exr_img = [array.array('f', normalize(i).flatten()).tostring() for i in after]\n"
     ]
    }
   ],
   "source": [
    "print(*after.shape[::-1][:2])\n",
    "f = exr.OutputFile(f\"output/{folder}.exr\", exr.Header(*after.shape[::-1][:2]))\n",
    "exr_img = [array.array('f', normalize(i).flatten()).tostring() for i in after]\n",
    "f.writePixels({\n",
    "    'R':exr_img[2],\n",
    "    'G':exr_img[1],\n",
    "    'B':exr_img[0],\n",
    "})\n",
    "f.close()"
   ]
  },
  {
   "cell_type": "code",
   "execution_count": 32,
   "metadata": {},
   "outputs": [
    {
     "output_type": "execute_result",
     "data": {
      "text/plain": [
       "True"
      ]
     },
     "metadata": {},
     "execution_count": 32
    }
   ],
   "source": [
    "cv2.imwrite(f'output/{folder}.hdr', after_norm)"
   ]
  },
  {
   "cell_type": "code",
   "execution_count": 33,
   "metadata": {},
   "outputs": [],
   "source": [
    "import seaborn as sns\n",
    "sns.set_theme(style=\"darkgrid\")\n",
    "\n",
    "def show_g(gs):\n",
    "    plt.clf()\n",
    "    color = ['blue', 'green', 'red']\n",
    "    \n",
    "    for i, g in enumerate(gs):\n",
    "        sns.lineplot(data=g, color=color[i])\n",
    "    "
   ]
  },
  {
   "cell_type": "code",
   "execution_count": 34,
   "metadata": {},
   "outputs": [],
   "source": [
    "# show_g(rgb_g)"
   ]
  }
 ]
}